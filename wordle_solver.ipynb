{
  "nbformat": 4,
  "nbformat_minor": 0,
  "metadata": {
    "colab": {
      "provenance": [],
      "authorship_tag": "ABX9TyMsvTrnia+LxMgEvb/bGYsI",
      "include_colab_link": true
    },
    "kernelspec": {
      "name": "python3",
      "display_name": "Python 3"
    },
    "language_info": {
      "name": "python"
    }
  },
  "cells": [
    {
      "cell_type": "markdown",
      "metadata": {
        "id": "view-in-github",
        "colab_type": "text"
      },
      "source": [
        "<a href=\"https://colab.research.google.com/github/plungeIntoDSJR/datasciencecoursera/blob/master/wordle_solver.ipynb\" target=\"_parent\"><img src=\"https://colab.research.google.com/assets/colab-badge.svg\" alt=\"Open In Colab\"/></a>"
      ]
    },
    {
      "cell_type": "code",
      "execution_count": 3,
      "metadata": {
        "colab": {
          "base_uri": "https://localhost:8080/",
          "height": 521
        },
        "id": "pXXbvIAKZWyo",
        "outputId": "9b4087fd-4dfc-4693-f428-c0c25107f13b"
      },
      "outputs": [
        {
          "metadata": {
            "tags": null
          },
          "name": "stdout",
          "output_type": "stream",
          "text": [
            "Think of a 5-letter word, and I will try to guess it.\n",
            "After each guess, enter feedback using G, Y, and X.\n",
            "Computer's guess: slate\n",
            "Computer's guess: civic\n",
            "Computer's guess: wharf\n",
            "Computer's guess: knead\n",
            "Computer's guess: puppy\n",
            "Computer's guess: eager\n",
            "Computer's guess: amber\n",
            "Computer's guess: xerox\n"
          ]
        },
        {
          "output_type": "error",
          "ename": "KeyboardInterrupt",
          "evalue": "ignored",
          "traceback": [
            "\u001b[0;31m---------------------------------------------------------------------------\u001b[0m",
            "\u001b[0;31mKeyboardInterrupt\u001b[0m                         Traceback (most recent call last)",
            "\u001b[0;32m<ipython-input-3-0ea3233f056e>\u001b[0m in \u001b[0;36m<cell line: 72>\u001b[0;34m()\u001b[0m\n\u001b[1;32m     70\u001b[0m \u001b[0mprint\u001b[0m\u001b[0;34m(\u001b[0m\u001b[0;34m\"Think of a 5-letter word, and I will try to guess it.\"\u001b[0m\u001b[0;34m)\u001b[0m\u001b[0;34m\u001b[0m\u001b[0;34m\u001b[0m\u001b[0m\n\u001b[1;32m     71\u001b[0m \u001b[0mprint\u001b[0m\u001b[0;34m(\u001b[0m\u001b[0;34m\"After each guess, enter feedback using G, Y, and X.\"\u001b[0m\u001b[0;34m)\u001b[0m\u001b[0;34m\u001b[0m\u001b[0;34m\u001b[0m\u001b[0m\n\u001b[0;32m---> 72\u001b[0;31m \u001b[0minteractive_wordle_solver\u001b[0m\u001b[0;34m(\u001b[0m\u001b[0mword_list\u001b[0m\u001b[0;34m)\u001b[0m\u001b[0;34m\u001b[0m\u001b[0;34m\u001b[0m\u001b[0m\n\u001b[0m",
            "\u001b[0;32m<ipython-input-3-0ea3233f056e>\u001b[0m in \u001b[0;36minteractive_wordle_solver\u001b[0;34m(word_list)\u001b[0m\n\u001b[1;32m     26\u001b[0m \u001b[0;34m\u001b[0m\u001b[0m\n\u001b[1;32m     27\u001b[0m     \u001b[0;32mwhile\u001b[0m \u001b[0;32mTrue\u001b[0m\u001b[0;34m:\u001b[0m\u001b[0;34m\u001b[0m\u001b[0;34m\u001b[0m\u001b[0m\n\u001b[0;32m---> 28\u001b[0;31m         \u001b[0mfeedback\u001b[0m \u001b[0;34m=\u001b[0m \u001b[0mget_feedback\u001b[0m\u001b[0;34m(\u001b[0m\u001b[0mguess\u001b[0m\u001b[0;34m)\u001b[0m\u001b[0;34m\u001b[0m\u001b[0;34m\u001b[0m\u001b[0m\n\u001b[0m\u001b[1;32m     29\u001b[0m         \u001b[0;32mif\u001b[0m \u001b[0mfeedback\u001b[0m \u001b[0;34m==\u001b[0m \u001b[0;34m\"GGGGG\"\u001b[0m\u001b[0;34m:\u001b[0m\u001b[0;34m\u001b[0m\u001b[0;34m\u001b[0m\u001b[0m\n\u001b[1;32m     30\u001b[0m             \u001b[0mprint\u001b[0m\u001b[0;34m(\u001b[0m\u001b[0;34mf\"Computer guessed it in {attempts} attempts!\"\u001b[0m\u001b[0;34m)\u001b[0m\u001b[0;34m\u001b[0m\u001b[0;34m\u001b[0m\u001b[0m\n",
            "\u001b[0;32m<ipython-input-3-0ea3233f056e>\u001b[0m in \u001b[0;36mget_feedback\u001b[0;34m(guess)\u001b[0m\n\u001b[1;32m      4\u001b[0m     \u001b[0;32mdef\u001b[0m \u001b[0mget_feedback\u001b[0m\u001b[0;34m(\u001b[0m\u001b[0mguess\u001b[0m\u001b[0;34m)\u001b[0m\u001b[0;34m:\u001b[0m\u001b[0;34m\u001b[0m\u001b[0;34m\u001b[0m\u001b[0m\n\u001b[1;32m      5\u001b[0m         \u001b[0mprint\u001b[0m\u001b[0;34m(\u001b[0m\u001b[0;34mf\"Computer's guess: {guess}\"\u001b[0m\u001b[0;34m)\u001b[0m\u001b[0;34m\u001b[0m\u001b[0;34m\u001b[0m\u001b[0m\n\u001b[0;32m----> 6\u001b[0;31m         \u001b[0;32mreturn\u001b[0m \u001b[0minput\u001b[0m\u001b[0;34m(\u001b[0m\u001b[0;34m\"Enter feedback (G for Green, Y for Yellow, X for Gray): \"\u001b[0m\u001b[0;34m)\u001b[0m\u001b[0;34m.\u001b[0m\u001b[0mupper\u001b[0m\u001b[0;34m(\u001b[0m\u001b[0;34m)\u001b[0m\u001b[0;34m\u001b[0m\u001b[0;34m\u001b[0m\u001b[0m\n\u001b[0m\u001b[1;32m      7\u001b[0m \u001b[0;34m\u001b[0m\u001b[0m\n\u001b[1;32m      8\u001b[0m     \u001b[0;32mdef\u001b[0m \u001b[0mmatch_pattern\u001b[0m\u001b[0;34m(\u001b[0m\u001b[0mword\u001b[0m\u001b[0;34m,\u001b[0m \u001b[0mfeedback\u001b[0m\u001b[0;34m,\u001b[0m \u001b[0mguess\u001b[0m\u001b[0;34m)\u001b[0m\u001b[0;34m:\u001b[0m\u001b[0;34m\u001b[0m\u001b[0;34m\u001b[0m\u001b[0m\n",
            "\u001b[0;32m/usr/local/lib/python3.10/dist-packages/ipykernel/kernelbase.py\u001b[0m in \u001b[0;36mraw_input\u001b[0;34m(self, prompt)\u001b[0m\n\u001b[1;32m    849\u001b[0m                 \u001b[0;34m\"raw_input was called, but this frontend does not support input requests.\"\u001b[0m\u001b[0;34m\u001b[0m\u001b[0;34m\u001b[0m\u001b[0m\n\u001b[1;32m    850\u001b[0m             )\n\u001b[0;32m--> 851\u001b[0;31m         return self._input_request(str(prompt),\n\u001b[0m\u001b[1;32m    852\u001b[0m             \u001b[0mself\u001b[0m\u001b[0;34m.\u001b[0m\u001b[0m_parent_ident\u001b[0m\u001b[0;34m,\u001b[0m\u001b[0;34m\u001b[0m\u001b[0;34m\u001b[0m\u001b[0m\n\u001b[1;32m    853\u001b[0m             \u001b[0mself\u001b[0m\u001b[0;34m.\u001b[0m\u001b[0m_parent_header\u001b[0m\u001b[0;34m,\u001b[0m\u001b[0;34m\u001b[0m\u001b[0;34m\u001b[0m\u001b[0m\n",
            "\u001b[0;32m/usr/local/lib/python3.10/dist-packages/ipykernel/kernelbase.py\u001b[0m in \u001b[0;36m_input_request\u001b[0;34m(self, prompt, ident, parent, password)\u001b[0m\n\u001b[1;32m    893\u001b[0m             \u001b[0;32mexcept\u001b[0m \u001b[0mKeyboardInterrupt\u001b[0m\u001b[0;34m:\u001b[0m\u001b[0;34m\u001b[0m\u001b[0;34m\u001b[0m\u001b[0m\n\u001b[1;32m    894\u001b[0m                 \u001b[0;31m# re-raise KeyboardInterrupt, to truncate traceback\u001b[0m\u001b[0;34m\u001b[0m\u001b[0;34m\u001b[0m\u001b[0m\n\u001b[0;32m--> 895\u001b[0;31m                 \u001b[0;32mraise\u001b[0m \u001b[0mKeyboardInterrupt\u001b[0m\u001b[0;34m(\u001b[0m\u001b[0;34m\"Interrupted by user\"\u001b[0m\u001b[0;34m)\u001b[0m \u001b[0;32mfrom\u001b[0m \u001b[0;32mNone\u001b[0m\u001b[0;34m\u001b[0m\u001b[0;34m\u001b[0m\u001b[0m\n\u001b[0m\u001b[1;32m    896\u001b[0m             \u001b[0;32mexcept\u001b[0m \u001b[0mException\u001b[0m \u001b[0;32mas\u001b[0m \u001b[0me\u001b[0m\u001b[0;34m:\u001b[0m\u001b[0;34m\u001b[0m\u001b[0;34m\u001b[0m\u001b[0m\n\u001b[1;32m    897\u001b[0m                 \u001b[0mself\u001b[0m\u001b[0;34m.\u001b[0m\u001b[0mlog\u001b[0m\u001b[0;34m.\u001b[0m\u001b[0mwarning\u001b[0m\u001b[0;34m(\u001b[0m\u001b[0;34m\"Invalid Message:\"\u001b[0m\u001b[0;34m,\u001b[0m \u001b[0mexc_info\u001b[0m\u001b[0;34m=\u001b[0m\u001b[0;32mTrue\u001b[0m\u001b[0;34m)\u001b[0m\u001b[0;34m\u001b[0m\u001b[0;34m\u001b[0m\u001b[0m\n",
            "\u001b[0;31mKeyboardInterrupt\u001b[0m: Interrupted by user"
          ]
        }
      ],
      "source": [
        "import random\n",
        "\n",
        "def interactive_wordle_solver(word_list):\n",
        "    def get_feedback(guess):\n",
        "        print(f\"Computer's guess: {guess}\")\n",
        "        return input(\"Enter feedback (G for Green, Y for Yellow, X for Gray): \").upper()\n",
        "\n",
        "    def match_pattern(word, feedback, guess):\n",
        "        pattern = ['_'] * 5  # '_' represents any character\n",
        "        excludes = set()     # letters that are not in the word\n",
        "\n",
        "        for i, ch in enumerate(feedback):\n",
        "            if ch == 'G':\n",
        "                pattern[i] = guess[i]\n",
        "            elif ch == 'X':\n",
        "                excludes.add(guess[i])\n",
        "\n",
        "        for i, ch in enumerate(guess):\n",
        "            if feedback[i] != 'G' and ch in pattern and ch not in excludes:\n",
        "                excludes.add(ch)\n",
        "\n",
        "        return all((pat == '_' or word[i] == pat) for i, pat in enumerate(pattern)) and all(ch not in word for ch in excludes)\n",
        "\n",
        "    guess = \"slate\"\n",
        "    attempts = 1\n",
        "\n",
        "    while True:\n",
        "        feedback = get_feedback(guess)\n",
        "        if feedback == \"GGGGG\":\n",
        "            print(f\"Computer guessed it in {attempts} attempts!\")\n",
        "            return\n",
        "\n",
        "        word_list = [word for word in word_list if match_pattern(word, feedback, guess)]\n",
        "\n",
        "        if not word_list:\n",
        "            print(\"No more words left, or incorrect feedback provided.\")\n",
        "            return\n",
        "\n",
        "        guess = random.choice(word_list)\n",
        "        attempts += 1\n",
        "\n",
        "# Example word list (should be more comprehensive in a real game)\n",
        "word_list = [\"slate\", \"crane\", \"brave\", \"pride\", \"flick\", \"globe\", \"shard\", \"blink\",\"apple\", \"braid\", \"charm\", \"dwell\", \"eager\", \"faint\", \"glide\",\n",
        "        \"happy\", \"ideal\", \"jolly\", \"knack\", \"light\", \"magic\", \"noble\",\n",
        "        \"ocean\", \"paint\", \"quest\", \"rally\", \"scale\", \"trace\", \"unity\",\n",
        "        \"visit\", \"widen\", \"yield\", \"zesty\", \"amber\", \"bravo\", \"crisp\",\n",
        "        \"draft\", \"elbow\", \"flute\", \"grape\", \"haste\", \"inert\", \"judge\",\n",
        "        \"knock\", \"latch\", \"mirth\", \"niche\", \"olive\", \"prism\", \"quirk\",\n",
        "        \"rough\", \"savor\", \"truce\", \"upset\", \"vowel\", \"watch\", \"xerox\",\n",
        "        \"young\", \"zebra\", \"adobe\", \"blush\", \"climb\", \"drive\", \"ethos\",\n",
        "        \"flair\", \"grove\", \"honor\", \"input\", \"jumpy\", \"kneel\", \"lemon\",\n",
        "        \"mango\", \"nylon\", \"opera\", \"pilot\", \"quill\", \"robin\", \"shear\",\n",
        "        \"tiger\", \"ulcer\", \"vivid\", \"waltz\", \"xenon\", \"yacht\", \"zealot\",\n",
        "        \"actor\", \"bloom\", \"chess\", \"debut\", \"ember\", \"flock\", \"giant\",\n",
        "        \"hover\", \"ivory\", \"joker\", \"knife\", \"lunar\", \"motel\", \"nudge\",\n",
        "        \"orbit\", \"puppy\", \"query\", \"ridge\", \"sweat\", \"table\", \"ultra\",\n",
        "        \"vapor\", \"wheat\", \"yodel\", \"zonal\", \"axiom\", \"blaze\", \"creed\",\n",
        "        \"dwarf\", \"evoke\", \"flint\", \"genre\", \"heist\", \"inbox\", \"joist\",\n",
        "        \"karma\", \"lurch\", \"mossy\", \"nymph\", \"octet\", \"plume\", \"quark\",\n",
        "        \"raven\", \"shard\", \"twist\", \"udder\", \"valor\", \"wharf\", \"yearn\",\n",
        "        \"zippy\", \"alloy\", \"brisk\", \"civic\", \"droll\", \"exalt\", \"frost\",\n",
        "        \"gusto\", \"hippo\", \"irony\", \"jetty\", \"knead\", \"louse\", \"mirth\",\n",
        "        \"noble\", \"ovary\", \"plaid\", \"quilt\", \"rebus\", \"slyly\", \"thorn\",\n",
        "        \"umbra\", \"vouch\", \"wacky\", \"youth\", \"zonal\", \"amble\", \"bushy\",\n",
        "        \"creek\", \"dizzy\", \"elope\", \"fjord\", \"gypsy\", \"humor\", \"intro\",\n",
        "        \"joust\", \"knoll\", \"lucid\", \"mocha\", \"nifty\", \"octal\", \"proxy\",\n",
        "        \"quire\", \"roost\", \"spunk\", \"tulip\", \"unzip\", \"vivid\", \"waltz\",\n",
        "        \"yucky\", \"zilch\"]\n",
        "# Start the game\n",
        "print(\"Think of a 5-letter word, and I will try to guess it.\")\n",
        "print(\"After each guess, enter feedback using G, Y, and X.\")\n",
        "interactive_wordle_solver(word_list)\n"
      ]
    },
    {
      "cell_type": "code",
      "source": [
        "import random\n",
        "\n",
        "def interactive_wordle_solver(word_list):\n",
        "    def get_feedback(guess):\n",
        "        print(f\"Computer's guess: {guess}\")\n",
        "        return input(\"Enter feedback (G for Green, Y for Yellow, X for Gray): \").upper()\n",
        "\n",
        "    def match_pattern(word, feedback, guess):\n",
        "        pattern = ['_'] * 5  # '_' represents any character\n",
        "        excludes = set()     # letters that are not in the word\n",
        "        wrong_positions = {i: set() for i in range(5)}  # positions where certain letters shouldn't be\n",
        "\n",
        "        for i, ch in enumerate(feedback):\n",
        "            if ch == 'G':\n",
        "                pattern[i] = guess[i]\n",
        "            elif ch == 'X':\n",
        "                if guess.count(guess[i]) == 1 or feedback.count('G') + feedback.count('Y') == guess.count(guess[i]):\n",
        "                    excludes.add(guess[i])\n",
        "            elif ch == 'Y':\n",
        "                wrong_positions[i].add(guess[i])\n",
        "\n",
        "        return all(\n",
        "            (pat == '_' or word[i] == pat) for i, pat in enumerate(pattern)\n",
        "        ) and all(\n",
        "            ch not in word for ch in excludes\n",
        "        ) and all(\n",
        "            guess[i] in word and guess[i] != word[i] for i, ch in enumerate(feedback) if ch == 'Y'\n",
        "        ) and all(\n",
        "            word[i] not in wrong_positions[i] for i in range(5)\n",
        "        )\n",
        "\n",
        "    guess = \"slate\"\n",
        "    attempts = 1\n",
        "\n",
        "    while True:\n",
        "        feedback = get_feedback(guess)\n",
        "        if feedback == \"GGGGG\":\n",
        "            print(f\"Computer guessed it in {attempts} attempts!\")\n",
        "            return\n",
        "\n",
        "        word_list = [word for word in word_list if match_pattern(word, feedback, guess)]\n",
        "\n",
        "        if not word_list:\n",
        "            print(\"No more words left, or incorrect feedback provided.\")\n",
        "            return\n",
        "\n",
        "        guess = random.choice(word_list)\n",
        "        attempts += 1\n",
        "\n",
        "# Example word list (should be more comprehensive in a real game)\n",
        "word_list = [\"slate\", \"crane\", \"brave\", \"pride\", \"flick\", \"globe\", \"shard\", \"blink\",\"apple\", \"braid\", \"charm\", \"dwell\", \"eager\", \"faint\", \"glide\",\n",
        "        \"happy\", \"ideal\", \"jolly\", \"knack\", \"light\", \"magic\", \"noble\", \"guilt\", \"quilt\", \"built\",\n",
        "        \"ocean\", \"paint\", \"quest\", \"rally\", \"scale\", \"trace\", \"unity\",\n",
        "        \"visit\", \"widen\", \"yield\", \"zesty\", \"amber\", \"bravo\", \"crisp\",\n",
        "        \"draft\", \"elbow\", \"flute\", \"grape\", \"haste\", \"inert\", \"judge\",\n",
        "        \"knock\", \"latch\", \"mirth\", \"niche\", \"olive\", \"prism\", \"quirk\",\n",
        "        \"rough\", \"savor\", \"truce\", \"upset\", \"vowel\", \"watch\", \"xerox\",\n",
        "        \"young\", \"zebra\", \"adobe\", \"blush\", \"climb\", \"drive\", \"ethos\",\n",
        "        \"flair\", \"grove\", \"honor\", \"input\", \"jumpy\", \"kneel\", \"lemon\",\n",
        "        \"mango\", \"nylon\", \"opera\", \"pilot\", \"quill\", \"robin\", \"shear\",\n",
        "        \"tiger\", \"ulcer\", \"vivid\", \"waltz\", \"xenon\", \"yacht\", \"zealot\",\n",
        "        \"actor\", \"bloom\", \"chess\", \"debut\", \"ember\", \"flock\", \"giant\",\n",
        "        \"hover\", \"ivory\", \"joker\", \"knife\", \"lunar\", \"motel\", \"nudge\",\n",
        "        \"orbit\", \"puppy\", \"query\", \"ridge\", \"sweat\", \"table\", \"ultra\",\n",
        "        \"vapor\", \"wheat\", \"yodel\", \"zonal\", \"axiom\", \"blaze\", \"creed\",\n",
        "        \"dwarf\", \"evoke\", \"flint\", \"genre\", \"heist\", \"inbox\", \"joist\",\n",
        "        \"karma\", \"lurch\", \"mossy\", \"nymph\", \"octet\", \"plume\", \"quark\",\n",
        "        \"raven\", \"shard\", \"twist\", \"udder\", \"valor\", \"wharf\", \"yearn\",\n",
        "        \"zippy\", \"alloy\", \"brisk\", \"civic\", \"droll\", \"exalt\", \"frost\",\n",
        "        \"gusto\", \"hippo\", \"irony\", \"jetty\", \"knead\", \"louse\", \"mirth\",\n",
        "        \"noble\", \"ovary\", \"plaid\", \"quilt\", \"rebus\", \"slyly\", \"thorn\",\n",
        "        \"umbra\", \"vouch\", \"wacky\", \"youth\", \"zonal\", \"amble\", \"bushy\",\n",
        "        \"creek\", \"dizzy\", \"elope\", \"fjord\", \"gypsy\", \"humor\", \"intro\",\n",
        "        \"joust\", \"knoll\", \"lucid\", \"mocha\", \"nifty\", \"octal\", \"proxy\",\n",
        "        \"quire\", \"roost\", \"spunk\", \"tulip\", \"unzip\", \"vivid\", \"waltz\",\n",
        "        \"yucky\", \"zilch\"]\n",
        "\n",
        "# Start the game\n",
        "print(\"Think of a 5-letter word, and I will try to guess it.\")\n",
        "print(\"After each guess, enter feedback using G, Y, and X.\")\n",
        "interactive_wordle_solver(word_list)\n"
      ],
      "metadata": {
        "colab": {
          "base_uri": "https://localhost:8080/"
        },
        "id": "no2OHRxu7i2W",
        "outputId": "38b29b67-423c-4e36-d31d-80b89ff4874f"
      },
      "execution_count": null,
      "outputs": [
        {
          "metadata": {
            "tags": null
          },
          "name": "stdout",
          "output_type": "stream",
          "text": [
            "Think of a 5-letter word, and I will try to guess it.\n",
            "After each guess, enter feedback using G, Y, and X.\n",
            "Computer's guess: slate\n"
          ]
        }
      ]
    },
    {
      "cell_type": "code",
      "source": [],
      "metadata": {
        "id": "Ljb6v_RcFPs6"
      },
      "execution_count": null,
      "outputs": []
    }
  ]
}